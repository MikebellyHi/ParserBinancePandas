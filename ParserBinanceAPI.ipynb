{
 "cells": [
  {
   "cell_type": "code",
   "execution_count": 7,
   "id": "067b93ec",
   "metadata": {},
   "outputs": [],
   "source": [
    "#Импортируем API Binance и библиотеку Pandas\n",
    "from binance.spot import Spot as Client\n",
    "import pandas as pd"
   ]
  },
  {
   "cell_type": "code",
   "execution_count": 2,
   "id": "73729c8e",
   "metadata": {},
   "outputs": [],
   "source": [
    "#Создаем ссылку на импортированный объект и собираем данные с API в виде словарей Python\n",
    "api = Client()\n",
    "response = api.ticker_24hr()\n",
    "tickers_price = api.ticker_price()"
   ]
  },
  {
   "cell_type": "code",
   "execution_count": 5,
   "id": "cd32063b",
   "metadata": {},
   "outputs": [],
   "source": [
    "#Для того, чтобы сформировать датафрейм воспользуемся методом его формирования из словарей, где ключ - название колонки\n",
    "#Значение - список значений этой колонки\n",
    "#В цикле мы создаем списки значений, где каждому конкретному индексу будет соответствовать конкретная пара (благодаря циклу)\n",
    "symbolList = []\n",
    "priceList = []\n",
    "highPriceList = []\n",
    "lowPriceList = []\n",
    "priceChangeList = []\n",
    "pricePercentChangeList = []\n",
    "volumeList = []\n",
    "for pair in tickers_price:\n",
    "    for pair2 in response:\n",
    "        if pair['symbol'] == pair2['symbol']:\n",
    "            symbolList.append(pair['symbol'])\n",
    "            priceList.append(pair['price'])\n",
    "            highPriceList.append(pair2['highPrice'])\n",
    "            lowPriceList.append(pair2['lowPrice'])\n",
    "            priceChangeList.append(pair2['priceChange'])\n",
    "            pricePercentChangeList.append(pair2['priceChangePercent'] + '%')\n",
    "            volumeList.append(pair2['volume'])\n",
    "\n",
    "data = {'Название пары': symbolList, 'Текущая цена': priceList, 'Максимальная цена за сутки': highPriceList, 'Минимальная цена за сутки': lowPriceList, 'Изменение цены за сутки': priceChangeList, 'Изменение цены в процентах за сутки': pricePercentChangeList, 'Объем торгов за сутки': volumeList}"
   ]
  },
  {
   "cell_type": "code",
   "execution_count": 8,
   "id": "8b115755",
   "metadata": {},
   "outputs": [],
   "source": [
    "#Формируем ДатаФрейм\n",
    "df = pd.DataFrame(data=data)"
   ]
  },
  {
   "cell_type": "code",
   "execution_count": 1,
   "id": "5d359c6f",
   "metadata": {},
   "outputs": [
    {
     "ename": "NameError",
     "evalue": "name 'df' is not defined",
     "output_type": "error",
     "traceback": [
      "\u001b[1;31m---------------------------------------------------------------------------\u001b[0m",
      "\u001b[1;31mNameError\u001b[0m                                 Traceback (most recent call last)",
      "Cell \u001b[1;32mIn [1], line 2\u001b[0m\n\u001b[0;32m      1\u001b[0m \u001b[39m#Записываем ДатаФрейм в файл csv\u001b[39;00m\n\u001b[1;32m----> 2\u001b[0m df\u001b[39m.\u001b[39mto_csv((\u001b[39m'\u001b[39m\u001b[39mC:\u001b[39m\u001b[39m\\\u001b[39m\u001b[39mProgramms\u001b[39m\u001b[39m\\\u001b[39m\u001b[39mParserBinancePandas\u001b[39m\u001b[39m\\\u001b[39m\u001b[39mPandasDFBinance.csv\u001b[39m\u001b[39m'\u001b[39m),index\u001b[39m=\u001b[39m\u001b[39mFalse\u001b[39;00m)\n",
      "\u001b[1;31mNameError\u001b[0m: name 'df' is not defined"
     ]
    }
   ],
   "source": [
    "#Записываем ДатаФрейм в файл csv\n",
    "df.to_csv(('C:\\Programms\\ParserBinancePandas\\PandasDFBinance.csv'),index=False)"
   ]
  },
  {
   "cell_type": "code",
   "execution_count": null,
   "id": "e7e066e0",
   "metadata": {},
   "outputs": [],
   "source": []
  }
 ],
 "metadata": {
  "kernelspec": {
   "display_name": "Python 3.10.2 64-bit",
   "language": "python",
   "name": "python3"
  },
  "language_info": {
   "codemirror_mode": {
    "name": "ipython",
    "version": 3
   },
   "file_extension": ".py",
   "mimetype": "text/x-python",
   "name": "python",
   "nbconvert_exporter": "python",
   "pygments_lexer": "ipython3",
   "version": "3.10.2"
  },
  "vscode": {
   "interpreter": {
    "hash": "0ebafeca7da358d963373a0a70f32d2075022606b955c8a3f0c0fc807be989f0"
   }
  }
 },
 "nbformat": 4,
 "nbformat_minor": 5
}
